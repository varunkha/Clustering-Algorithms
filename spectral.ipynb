{
 "cells": [
  {
   "cell_type": "code",
   "execution_count": 17,
   "metadata": {
    "collapsed": true
   },
   "outputs": [],
   "source": [
    "import numpy as np\n",
    "import random\n",
    "from scipy.spatial import distance\n",
    "from scipy.sparse.linalg import eigs\n",
    "import matplotlib.pyplot as plt\n",
    "import matplotlib.cm as cm\n",
    "from sklearn.decomposition import PCA\n",
    "%matplotlib inline\n",
    "import warnings\n",
    "warnings.filterwarnings('ignore')"
   ]
  },
  {
   "cell_type": "code",
   "execution_count": 18,
   "metadata": {
    "collapsed": false
   },
   "outputs": [
    {
     "name": "stdout",
     "output_type": "stream",
     "text": [
      "Enter file name:iyer.txt\n"
     ]
    }
   ],
   "source": [
    "#Accept file name\n",
    "# iyer.txt\n",
    "# cho.txt\n",
    "while True:\n",
    "    try:\n",
    "        n_file = str(raw_input('Enter file name:'))\n",
    "        break\n",
    "    except ValueError:\n",
    "        print \"Not a string\""
   ]
  },
  {
   "cell_type": "code",
   "execution_count": 19,
   "metadata": {
    "collapsed": false
   },
   "outputs": [
    {
     "name": "stdout",
     "output_type": "stream",
     "text": [
      "Enter number of clusters:10\n"
     ]
    }
   ],
   "source": [
    "#Accept number of clusters\n",
    "while True:\n",
    "    try:\n",
    "        n_clusters = int(raw_input('Enter number of clusters:'))\n",
    "        break\n",
    "    except ValueError:\n",
    "        print \"Not a number\""
   ]
  },
  {
   "cell_type": "code",
   "execution_count": 20,
   "metadata": {
    "collapsed": false
   },
   "outputs": [],
   "source": [
    "#Read from file and separate data into sample id, groundtruth and gene expressions\n",
    "data = np.genfromtxt(n_file)\n",
    "data_id = data[:,0]\n",
    "data_truth = data[:,1]\n",
    "data_genes = data[:,2:]"
   ]
  },
  {
   "cell_type": "code",
   "execution_count": 21,
   "metadata": {
    "collapsed": true
   },
   "outputs": [],
   "source": [
    "w = distance.cdist(data_genes, data_genes, 'euclidean')"
   ]
  },
  {
   "cell_type": "code",
   "execution_count": 22,
   "metadata": {
    "collapsed": false
   },
   "outputs": [],
   "source": [
    "d = np.zeros(w.shape)\n",
    "for i in range(w.shape[0]):\n",
    "    d[i,i] = w[i].sum()"
   ]
  },
  {
   "cell_type": "code",
   "execution_count": 23,
   "metadata": {
    "collapsed": false
   },
   "outputs": [],
   "source": [
    "l = d - w"
   ]
  },
  {
   "cell_type": "code",
   "execution_count": 24,
   "metadata": {
    "collapsed": false
   },
   "outputs": [],
   "source": [
    "eigenvalue, eigenvector = eigs(l,k=20,which='SR')"
   ]
  },
  {
   "cell_type": "code",
   "execution_count": 25,
   "metadata": {
    "collapsed": false
   },
   "outputs": [],
   "source": [
    "reduction = np.diff(eigenvalue[1:]).argmax()+1\n",
    "v = eigenvector[:,:reduction]"
   ]
  },
  {
   "cell_type": "code",
   "execution_count": 26,
   "metadata": {
    "collapsed": false
   },
   "outputs": [
    {
     "data": {
      "image/png": "[encoded data removed]",
      "text/plain": [
       "<matplotlib.figure.Figure at 0x8e58048>"
      ]
     },
     "metadata": {},
     "output_type": "display_data"
    }
   ],
   "source": [
    "plt.plot(eigenvalue,'ro')\n",
    "axes = plt.gca()\n",
    "axes.set_xlim([-1,20])\n",
    "plt.show()"
   ]
  },
  {
   "cell_type": "code",
   "execution_count": 27,
   "metadata": {
    "collapsed": false
   },
   "outputs": [],
   "source": [
    "def calScore():\n",
    "    global rand\n",
    "    global jaccard\n",
    "    m11=0.0\n",
    "    m00=0.0\n",
    "    m01=0.0\n",
    "    for i in range(data.shape[0]):\n",
    "        for j in range(data.shape[0]):\n",
    "            if data_truth[i]==data_truth[j] and cluster_assignment[i]==cluster_assignment[j]:\n",
    "                m11 += 1\n",
    "            elif data_truth[i]!=data_truth[j] and cluster_assignment[i]!=cluster_assignment[j]:\n",
    "                m00 += 1\n",
    "            else:\n",
    "                m01 += 1\n",
    "    rand = (m11+m00)/(m11+m00+m01)\n",
    "    jaccard = (m11)/(m11+m01)"
   ]
  },
  {
   "cell_type": "code",
   "execution_count": 28,
   "metadata": {
    "collapsed": false,
    "scrolled": true
   },
   "outputs": [],
   "source": [
    "#kmeans\n",
    "#initial random centroid assignment\n",
    "iterations_output = 0\n",
    "rand_output = 0\n",
    "jaccard_output = 0\n",
    "while iterations_output!=20:\n",
    "    iterations_output += 1\n",
    "    centroids = np.asarray(random.sample(v,  n_clusters))\n",
    "    iterations = 0\n",
    "    while True and iterations!=1000:\n",
    "        iterations +=1\n",
    "        centroids_old = centroids.copy()\n",
    "\n",
    "        centroid_distance = distance.cdist(v, centroids, 'euclidean')\n",
    "        cluster_assignment = np.argmin(centroid_distance,axis=1)\n",
    "        for i in range(n_clusters):\n",
    "            cluster = v[cluster_assignment==i]\n",
    "            centroids[i] = cluster.mean(axis=0)\n",
    "\n",
    "        if np.array_equal(centroids,centroids_old):\n",
    "            break\n",
    "    calScore()\n",
    "    if rand > rand_output:\n",
    "        rand_output = rand\n",
    "        jaccard_output = jaccard\n",
    "        cluster_assignment_output = cluster_assignment.copy()\n",
    "        centroids_output = centroids.copy()"
   ]
  },
  {
   "cell_type": "code",
   "execution_count": 29,
   "metadata": {
    "collapsed": false
   },
   "outputs": [
    {
     "name": "stdout",
     "output_type": "stream",
     "text": [
      "Rand Score:\t0.540669462642\n",
      "Jaccard Score:\t0.118579089819\n"
     ]
    }
   ],
   "source": [
    "print \"Rand Score:\\t\", rand_output\n",
    "print \"Jaccard Score:\\t\", jaccard_output"
   ]
  },
  {
   "cell_type": "code",
   "execution_count": 30,
   "metadata": {
    "collapsed": false,
    "scrolled": true
   },
   "outputs": [],
   "source": [
    "#Dimensionality reduction using PCA on data points\n",
    "pca = PCA(n_components=2)\n",
    "pca.fit(data_genes)\n",
    "pca_output = pca.transform(data_genes)\n",
    "\n",
    "#Dimensionality reduction using PCA on centroids calculated using kmeans\n",
    "pca_c = PCA(n_components=2)\n",
    "pca_c.fit(centroids_output)\n",
    "pca_output_c = pca_c.transform(centroids_output)\n",
    "\n",
    "#Dimensionality reduction using PCA on centroids calculated using ground truth\n",
    "centroids_ground = np.zeros((n_clusters,data_genes.shape[1]))\n",
    "for i in range(1,n_clusters+1):\n",
    "    centroids_ground[i-1] = data_genes[data_truth==i].mean(axis=0)\n",
    "pca_c_g = PCA(n_components=2)\n",
    "pca_c_g.fit(centroids_ground)\n",
    "pca_output_c_g = pca_c_g.transform(centroids_ground)"
   ]
  },
  {
   "cell_type": "code",
   "execution_count": 33,
   "metadata": {
    "collapsed": false
   },
   "outputs": [
    {
     "data": {
      "image/png": "[encoded data removed]",
      "text/plain": [
       "<matplotlib.figure.Figure at 0xb9aa240>"
      ]
     },
     "metadata": {},
     "output_type": "display_data"
    }
   ],
   "source": [
    "#Plotting ground truth and kmeans clustering results\n",
    "fig = plt.figure(num=None, figsize=(20, 10), dpi=96, facecolor='w', edgecolor='k')\n",
    "\n",
    "#10 colour rainbow generation shamelessly copied\n",
    "# reference\n",
    "# http://stackoverflow.com/questions/12236566/setting-different-color-for-each-series-in-scatter-plot-on-matplotlib\n",
    "x = np.arange(n_clusters+2)\n",
    "ys = [i+x+(i*x)**2 for i in range(n_clusters+2)]\n",
    "colors = cm.rainbow(np.linspace(0, 1, len(ys)))\n",
    "    \n",
    "plt.subplot(121)\n",
    "for i in range(1,n_clusters+1):\n",
    "    plt.scatter(pca_output[data_truth==i][:,0],pca_output[data_truth==i][:,1],c=colors[i])\n",
    "#plt.scatter(pca_output[data_truth==-1][:,0],pca_output[data_truth==-1][:,1],c=colors[0])\n",
    "plt.scatter(pca_output_c_g[:,0],pca_output_c_g[:,1],c=colors[n_clusters+1],marker='8',s=100)\n",
    "plt.title('Ground Truth')\n",
    "#axes = plt.gca()\n",
    "#axes.set_xlim([-20,20])\n",
    "#axes.set_ylim([-20,20])\n",
    "#plt.legend(['','','','','','','','','','','','centroid'],loc=3)\n",
    "\n",
    "plt.subplot(122)\n",
    "for i in range(n_clusters):\n",
    "    plt.scatter(pca_output[cluster_assignment==i][:,0],pca_output[cluster_assignment==i][:,1],c=colors[i])\n",
    "plt.scatter(pca_output_c[:,0],pca_output_c[:,1],c=colors[n_clusters+1],marker='8',s=100)\n",
    "plt.title('Spectral')\n",
    "#axes = plt.gca()\n",
    "#axes.set_xlim([-20,20])\n",
    "#axes.set_ylim([-20,20])\n",
    "#plt.legend(['','','','','','','','','','','centroid'],loc=3)\n",
    "plt.show()"
   ]
  },
  {
   "cell_type": "code",
   "execution_count": null,
   "metadata": {
    "collapsed": true
   },
   "outputs": [],
   "source": []
  }
 ],
 "metadata": {
  "anaconda-cloud": {},
  "kernelspec": {
   "display_name": "Python [Root]",
   "language": "python",
   "name": "Python [Root]"
  },
  "language_info": {
   "codemirror_mode": {
    "name": "ipython",
    "version": 2
   },
   "file_extension": ".py",
   "mimetype": "text/x-python",
   "name": "python",
   "nbconvert_exporter": "python",
   "pygments_lexer": "ipython2",
   "version": "2.7.12"
  }
 },
 "nbformat": 4,
 "nbformat_minor": 0
}
